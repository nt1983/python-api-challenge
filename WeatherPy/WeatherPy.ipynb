{
 "cells": [
  {
   "cell_type": "markdown",
   "metadata": {},
   "source": [
    "# WeatherPy\n",
    "----\n",
    "\n",
    "#### Note\n",
    "* Instructions have been included for each segment. You do not have to follow them exactly, but they are included to help you think through the steps."
   ]
  },
  {
   "cell_type": "code",
   "execution_count": 56,
   "metadata": {
    "scrolled": true
   },
   "outputs": [],
   "source": [
    "# Dependencies and Setup\n",
    "import matplotlib.pyplot as plt\n",
    "import pandas as pd\n",
    "import numpy as np\n",
    "import requests\n",
    "import time\n",
    "from scipy.stats import linregress\n",
    "from datetime import date\n",
    "import scipy.stats as st\n",
    "\n",
    "# Import API key\n",
    "from api_keys import weather_api_key\n",
    "\n",
    "# Incorporated citipy to determine city based on latitude and longitude\n",
    "from citipy import citipy\n",
    "\n",
    "# Output File (CSV)\n",
    "output_data_file = \"output_data/cities.csv\"\n",
    "\n",
    "# Range of latitudes and longitudes\n",
    "lat_range = (-90, 90)\n",
    "lng_range = (-180, 180)"
   ]
  },
  {
   "cell_type": "markdown",
   "metadata": {},
   "source": [
    "## Generate Cities List"
   ]
  },
  {
   "cell_type": "code",
   "execution_count": 4,
   "metadata": {},
   "outputs": [
    {
     "data": {
      "text/plain": [
       "604"
      ]
     },
     "execution_count": 4,
     "metadata": {},
     "output_type": "execute_result"
    }
   ],
   "source": [
    "# List for holding lat_lngs and cities\n",
    "lat_lngs = []\n",
    "cities = []\n",
    "\n",
    "# Create a set of random lat and lng combinations\n",
    "lats = np.random.uniform(lat_range[0], lat_range[1], size=1500)\n",
    "lngs = np.random.uniform(lng_range[0], lng_range[1], size=1500)\n",
    "lat_lngs = zip(lats, lngs)\n",
    "\n",
    "# Identify nearest city for each lat, lng combination\n",
    "for lat_lng in lat_lngs:\n",
    "    city = citipy.nearest_city(lat_lng[0], lat_lng[1]).city_name\n",
    "    \n",
    "    # If the city is unique, then add it to a our cities list\n",
    "    if city not in cities:\n",
    "        cities.append(city)\n",
    "\n",
    "# Print the city count to confirm sufficient count\n",
    "len(cities)"
   ]
  },
  {
   "cell_type": "markdown",
   "metadata": {},
   "source": [
    "### Perform API Calls\n",
    "* Perform a weather check on each city using a series of successive API calls.\n",
    "* Include a print log of each city as it'sbeing processed (with the city number and city name).\n"
   ]
  },
  {
   "cell_type": "code",
   "execution_count": 5,
   "metadata": {
    "scrolled": true
   },
   "outputs": [
    {
     "name": "stdout",
     "output_type": "stream",
     "text": [
      "Beginning Data Retrieval\n",
      "-----------------------------\n",
      "Processing Record 1 of set 1 | georgetown\n",
      "Processing Record 2 of set 1 | clyde river\n",
      "Processing Record 3 of set 1 | east london\n",
      "Processing Record 4 of set 1 | ribeira grande\n",
      "Processing Record 5 of set 1 | saint-paul\n",
      "visimo-utkinsk NOT FOUND. Skipping.... !!!!\n",
      "Processing Record 6 of set 1 | rikitea\n",
      "higuey NOT FOUND. Skipping.... !!!!\n",
      "Processing Record 7 of set 1 | uvalde\n",
      "Processing Record 8 of set 1 | muros\n",
      "Processing Record 9 of set 1 | berlevag\n",
      "Processing Record 10 of set 1 | ostwald\n",
      "Processing Record 11 of set 1 | ganzhou\n",
      "Processing Record 12 of set 1 | mount isa\n",
      "Processing Record 13 of set 1 | norman wells\n",
      "Processing Record 14 of set 1 | avarua\n",
      "Processing Record 15 of set 1 | le vauclin\n",
      "Processing Record 16 of set 1 | kavaratti\n",
      "Processing Record 17 of set 1 | kochubey\n",
      "paucartambo NOT FOUND. Skipping.... !!!!\n",
      "saleaula NOT FOUND. Skipping.... !!!!\n",
      "Processing Record 18 of set 1 | castro\n",
      "Processing Record 19 of set 1 | niquelandia\n",
      "Processing Record 20 of set 1 | luderitz\n",
      "Processing Record 21 of set 1 | mataura\n",
      "Processing Record 22 of set 1 | santiago\n",
      "nizhneyansk NOT FOUND. Skipping.... !!!!\n",
      "Processing Record 23 of set 1 | ilulissat\n",
      "Processing Record 24 of set 1 | viramgam\n",
      "Processing Record 25 of set 1 | albany\n",
      "Processing Record 26 of set 1 | tuatapere\n",
      "Processing Record 27 of set 1 | thompson\n",
      "Processing Record 28 of set 1 | cape town\n",
      "Processing Record 29 of set 1 | hasaki\n",
      "Processing Record 30 of set 1 | atuona\n",
      "Processing Record 31 of set 1 | rapid valley\n",
      "Processing Record 32 of set 1 | husavik\n",
      "Processing Record 33 of set 1 | barrow\n",
      "Processing Record 34 of set 1 | la paz\n",
      "Processing Record 35 of set 1 | portland\n",
      "Processing Record 36 of set 1 | old saybrook\n",
      "Processing Record 37 of set 1 | caravelas\n",
      "Processing Record 38 of set 1 | honiara\n",
      "Processing Record 39 of set 1 | inuvik\n",
      "Processing Record 40 of set 1 | qui nhon\n",
      "Processing Record 41 of set 1 | tel aviv-yafo\n",
      "taolanaro NOT FOUND. Skipping.... !!!!\n",
      "Processing Record 42 of set 1 | bilma\n",
      "Processing Record 43 of set 1 | pevek\n",
      "barentsburg NOT FOUND. Skipping.... !!!!\n",
      "Processing Record 44 of set 1 | yerbogachen\n",
      "Processing Record 45 of set 1 | bluff\n",
      "Processing Record 46 of set 1 | ushuaia\n",
      "illoqqortoormiut NOT FOUND. Skipping.... !!!!\n",
      "Processing Record 47 of set 1 | jamestown\n",
      "Processing Record 48 of set 1 | butaritari\n",
      "Processing Record 49 of set 1 | faanui\n",
      "Processing Record 50 of set 1 | kupang\n",
      "Processing Record 51 of set 1 | qurayyat\n",
      "Processing Record 52 of set 1 | bambous virieux\n",
      "Processing Record 53 of set 1 | basco\n",
      "Processing Record 54 of set 1 | xicotencatl\n",
      "Processing Record 55 of set 1 | port hardy\n",
      "Processing Record 56 of set 1 | hermanus\n",
      "Processing Record 57 of set 1 | puerto ayora\n",
      "Processing Record 58 of set 1 | ponta do sol\n",
      "mys shmidta NOT FOUND. Skipping.... !!!!\n",
      "Processing Record 59 of set 1 | adrar\n",
      "Processing Record 60 of set 1 | pringsewu\n",
      "vaitupu NOT FOUND. Skipping.... !!!!\n",
      "Processing Record 61 of set 1 | kiunga\n",
      "Processing Record 62 of set 1 | tiksi\n",
      "Processing Record 63 of set 1 | saint george\n",
      "Processing Record 64 of set 1 | punta arenas\n",
      "Processing Record 65 of set 1 | talas\n",
      "Processing Record 66 of set 1 | mardin\n",
      "Processing Record 67 of set 1 | lebu\n",
      "Processing Record 68 of set 1 | abonnema\n",
      "Processing Record 69 of set 1 | ploemeur\n",
      "belushya guba NOT FOUND. Skipping.... !!!!\n",
      "Processing Record 70 of set 1 | saint-philippe\n",
      "Processing Record 71 of set 1 | new norfolk\n",
      "Processing Record 72 of set 1 | sorland\n",
      "Processing Record 73 of set 1 | port hedland\n",
      "Processing Record 74 of set 1 | bredasdorp\n",
      "Processing Record 75 of set 1 | busselton\n",
      "Processing Record 76 of set 1 | muravlenko\n",
      "Processing Record 77 of set 1 | panama city\n",
      "Processing Record 78 of set 1 | figeac\n",
      "viligili NOT FOUND. Skipping.... !!!!\n",
      "Processing Record 79 of set 1 | airai\n",
      "amderma NOT FOUND. Skipping.... !!!!\n",
      "Processing Record 80 of set 1 | kaseda\n",
      "Processing Record 81 of set 1 | srednekolymsk\n",
      "lolua NOT FOUND. Skipping.... !!!!\n",
      "Processing Record 82 of set 1 | chicama\n",
      "Processing Record 83 of set 1 | kloulklubed\n",
      "palabuhanratu NOT FOUND. Skipping.... !!!!\n",
      "Processing Record 84 of set 1 | hithadhoo\n",
      "Processing Record 85 of set 1 | lorengau\n",
      "Processing Record 86 of set 1 | koslan\n",
      "Processing Record 87 of set 1 | severo-kurilsk\n",
      "Processing Record 88 of set 1 | longyearbyen\n",
      "Processing Record 89 of set 1 | konstantinovo\n",
      "Processing Record 90 of set 1 | cadillac\n",
      "Processing Record 91 of set 1 | guerrero negro\n",
      "Processing Record 92 of set 1 | porto velho\n",
      "Processing Record 93 of set 1 | hilo\n",
      "Processing Record 94 of set 1 | waipawa\n",
      "Processing Record 95 of set 1 | port elizabeth\n",
      "Processing Record 96 of set 1 | bengkulu\n",
      "Processing Record 97 of set 1 | berovo\n",
      "Processing Record 98 of set 1 | bambanglipuro\n",
      "Processing Record 99 of set 1 | vardo\n",
      "Processing Record 100 of set 1 | chuy\n",
      "Processing Record 101 of set 1 | yellowknife\n",
      "Processing Record 102 of set 1 | khatanga\n",
      "Processing Record 103 of set 1 | port blair\n",
      "Processing Record 104 of set 1 | hobart\n",
      "Processing Record 105 of set 1 | lavrentiya\n",
      "rawannawi NOT FOUND. Skipping.... !!!!\n",
      "Processing Record 106 of set 1 | cap-aux-meules\n",
      "Processing Record 107 of set 1 | komsomolskiy\n",
      "Processing Record 108 of set 1 | digby\n",
      "Processing Record 109 of set 1 | shingu\n",
      "Processing Record 110 of set 1 | qaanaaq\n",
      "Processing Record 111 of set 1 | ontario\n",
      "villa vazquez NOT FOUND. Skipping.... !!!!\n",
      "Processing Record 112 of set 1 | maiduguri\n",
      "Processing Record 113 of set 1 | abu dhabi\n",
      "Processing Record 114 of set 1 | mahebourg\n",
      "Processing Record 115 of set 1 | mansa\n",
      "Processing Record 116 of set 1 | aranda de duero\n",
      "Processing Record 117 of set 1 | nikolskoye\n",
      "Processing Record 118 of set 1 | cidreira\n",
      "Processing Record 119 of set 1 | nioki\n",
      "Processing Record 120 of set 1 | camocim\n",
      "Processing Record 121 of set 1 | ishigaki\n",
      "Processing Record 122 of set 1 | shibetsu\n",
      "Processing Record 123 of set 1 | bisira\n",
      "Processing Record 124 of set 1 | hofn\n",
      "Processing Record 125 of set 1 | ramshir\n",
      "Processing Record 126 of set 1 | asfi\n",
      "Processing Record 127 of set 1 | arraial do cabo\n",
      "Processing Record 128 of set 1 | sulangan\n",
      "Processing Record 129 of set 1 | gizo\n",
      "Processing Record 130 of set 1 | dikson\n",
      "Processing Record 131 of set 1 | kaitangata\n",
      "Processing Record 132 of set 1 | zeya\n",
      "Processing Record 133 of set 1 | port alfred\n",
      "Processing Record 134 of set 1 | gorontalo\n",
      "Processing Record 135 of set 1 | esperance\n",
      "Processing Record 136 of set 1 | port-cartier\n",
      "Processing Record 137 of set 1 | vaini\n",
      "Processing Record 138 of set 1 | wittenberge\n",
      "Processing Record 139 of set 1 | boulder\n",
      "Processing Record 140 of set 1 | havre-saint-pierre\n",
      "Processing Record 141 of set 1 | bethel\n",
      "Processing Record 142 of set 1 | hidrolandia\n",
      "Processing Record 143 of set 1 | balakhninskiy\n",
      "Processing Record 144 of set 1 | pacific grove\n",
      "Processing Record 145 of set 1 | juneau\n",
      "Processing Record 146 of set 1 | aswan\n",
      "ust-kamchatsk NOT FOUND. Skipping.... !!!!\n",
      "Processing Record 147 of set 1 | mtwango\n",
      "Processing Record 148 of set 1 | naushki\n",
      "Processing Record 149 of set 1 | ron\n",
      "Processing Record 150 of set 1 | stirling\n",
      "Processing Record 151 of set 1 | sacramento\n",
      "Processing Record 152 of set 1 | mar del plata\n",
      "Processing Record 153 of set 1 | coihaique\n",
      "Processing Record 154 of set 1 | san cristobal\n",
      "Processing Record 155 of set 1 | sechura\n",
      "Processing Record 156 of set 1 | san patricio\n",
      "Processing Record 157 of set 1 | saskylakh\n",
      "Processing Record 158 of set 1 | huntingdon\n",
      "Processing Record 159 of set 1 | hirado\n",
      "paradwip NOT FOUND. Skipping.... !!!!\n",
      "Processing Record 160 of set 1 | oranjemund\n",
      "Processing Record 161 of set 1 | kruisfontein\n",
      "Processing Record 162 of set 1 | mpwapwa\n",
      "Processing Record 163 of set 1 | salina\n",
      "Processing Record 164 of set 1 | devils lake\n",
      "Processing Record 165 of set 1 | la ronge\n",
      "Processing Record 166 of set 1 | isangel\n",
      "Processing Record 167 of set 1 | tasiilaq\n",
      "Processing Record 168 of set 1 | babai\n",
      "Processing Record 169 of set 1 | thinadhoo\n",
      "Processing Record 170 of set 1 | smoky lake\n",
      "Processing Record 171 of set 1 | kapaa\n",
      "Processing Record 172 of set 1 | kitami\n",
      "Processing Record 173 of set 1 | nome\n",
      "Processing Record 174 of set 1 | araouane\n",
      "Processing Record 175 of set 1 | faya\n",
      "Processing Record 176 of set 1 | nanortalik\n",
      "Processing Record 177 of set 1 | victoria\n"
     ]
    },
    {
     "name": "stdout",
     "output_type": "stream",
     "text": [
      "Processing Record 178 of set 1 | selikhino\n",
      "louisbourg NOT FOUND. Skipping.... !!!!\n",
      "Processing Record 179 of set 1 | mpanda\n",
      "sentyabrskiy NOT FOUND. Skipping.... !!!!\n",
      "Processing Record 180 of set 1 | uitenhage\n",
      "Processing Record 181 of set 1 | kodiak\n",
      "Processing Record 182 of set 1 | nuuk\n",
      "Processing Record 183 of set 1 | fukue\n",
      "Processing Record 184 of set 1 | baruun-urt\n",
      "Processing Record 185 of set 1 | san policarpo\n",
      "Processing Record 186 of set 1 | baragua\n",
      "Processing Record 187 of set 1 | yulara\n",
      "Processing Record 188 of set 1 | pucara\n",
      "Processing Record 189 of set 1 | tuktoyaktuk\n",
      "Processing Record 190 of set 1 | avera\n",
      "Processing Record 191 of set 1 | viedma\n",
      "Processing Record 192 of set 1 | derzhavinsk\n",
      "duz NOT FOUND. Skipping.... !!!!\n",
      "Processing Record 193 of set 1 | tommot\n",
      "haibowan NOT FOUND. Skipping.... !!!!\n",
      "Processing Record 194 of set 1 | teeli\n",
      "Processing Record 195 of set 1 | fort collins\n",
      "Processing Record 196 of set 1 | mitsamiouli\n",
      "Processing Record 197 of set 1 | porangatu\n",
      "Processing Record 198 of set 1 | flin flon\n",
      "Processing Record 199 of set 1 | vila franca do campo\n",
      "Processing Record 200 of set 1 | shelopugino\n",
      "Processing Record 201 of set 1 | kavieng\n",
      "Processing Record 202 of set 1 | amapa\n",
      "Processing Record 203 of set 1 | havelock\n",
      "Processing Record 204 of set 1 | fort saint james\n",
      "Processing Record 205 of set 1 | killybegs\n",
      "Processing Record 206 of set 1 | wakkanai\n",
      "Processing Record 207 of set 1 | vandavasi\n",
      "Processing Record 208 of set 1 | iqaluit\n",
      "Processing Record 209 of set 1 | tanem\n",
      "Processing Record 210 of set 1 | zitlala\n",
      "Processing Record 211 of set 1 | sistranda\n",
      "Processing Record 212 of set 1 | osa\n",
      "Processing Record 213 of set 1 | brae\n",
      "Processing Record 214 of set 1 | ancud\n",
      "kamenskoye NOT FOUND. Skipping.... !!!!\n",
      "zolotinka NOT FOUND. Skipping.... !!!!\n",
      "Processing Record 215 of set 1 | upernavik\n",
      "aakirkeby NOT FOUND. Skipping.... !!!!\n",
      "Processing Record 216 of set 1 | dalnerechensk\n",
      "Processing Record 217 of set 1 | kamenka\n",
      "Processing Record 218 of set 1 | rawson\n",
      "Processing Record 219 of set 1 | leningradskiy\n",
      "Processing Record 220 of set 1 | beringovskiy\n",
      "Processing Record 221 of set 1 | zhigansk\n",
      "Processing Record 222 of set 1 | plaisance-du-touch\n",
      "Processing Record 223 of set 1 | paris\n",
      "Processing Record 224 of set 1 | constitucion\n",
      "Processing Record 225 of set 1 | chokurdakh\n",
      "Processing Record 226 of set 1 | mackay\n",
      "Processing Record 227 of set 1 | bandarbeyla\n",
      "Processing Record 228 of set 1 | mocuba\n",
      "Processing Record 229 of set 1 | erenhot\n",
      "rungata NOT FOUND. Skipping.... !!!!\n",
      "Processing Record 230 of set 1 | codrington\n",
      "Processing Record 231 of set 1 | olafsvik\n",
      "Processing Record 232 of set 1 | luanda\n",
      "Processing Record 233 of set 1 | sept-iles\n",
      "Processing Record 234 of set 1 | bull savanna\n",
      "Processing Record 235 of set 1 | laguna\n",
      "Processing Record 236 of set 1 | bagdarin\n",
      "Processing Record 237 of set 1 | half moon bay\n",
      "Processing Record 238 of set 1 | iisalmi\n",
      "Processing Record 239 of set 1 | codajas\n",
      "Processing Record 240 of set 1 | bathsheba\n",
      "Processing Record 241 of set 1 | methven\n",
      "Processing Record 242 of set 1 | cherskiy\n",
      "Processing Record 243 of set 1 | sao jose da coroa grande\n",
      "Processing Record 244 of set 1 | angoram\n",
      "Processing Record 245 of set 1 | garissa\n",
      "Processing Record 246 of set 1 | miandrivazo\n",
      "Processing Record 247 of set 1 | ibb\n",
      "Processing Record 248 of set 1 | chernyshevskiy\n",
      "guajara-mirim NOT FOUND. Skipping.... !!!!\n",
      "Processing Record 249 of set 1 | nova olinda do norte\n",
      "Processing Record 250 of set 1 | broome\n",
      "Processing Record 251 of set 1 | bandar-e anzali\n",
      "Processing Record 252 of set 1 | bintulu\n",
      "Processing Record 253 of set 1 | palauig\n",
      "Processing Record 254 of set 1 | darasun\n",
      "Processing Record 255 of set 1 | japura\n",
      "grand river south east NOT FOUND. Skipping.... !!!!\n",
      "Processing Record 256 of set 1 | flinders\n",
      "Processing Record 257 of set 1 | rocha\n",
      "Processing Record 258 of set 1 | isiro\n",
      "Processing Record 259 of set 1 | axim\n",
      "Processing Record 260 of set 1 | palu\n",
      "Processing Record 261 of set 1 | buraydah\n",
      "Processing Record 262 of set 1 | ayan\n",
      "Processing Record 263 of set 1 | uvinza\n",
      "Processing Record 264 of set 1 | hambantota\n",
      "Processing Record 265 of set 1 | verkhoyansk\n",
      "Processing Record 266 of set 1 | atakpame\n",
      "Processing Record 267 of set 1 | porto belo\n",
      "attawapiskat NOT FOUND. Skipping.... !!!!\n",
      "Processing Record 268 of set 1 | port augusta\n",
      "Processing Record 269 of set 1 | ust-nera\n",
      "Processing Record 270 of set 1 | malindi\n",
      "Processing Record 271 of set 1 | samandag\n",
      "Processing Record 272 of set 1 | sola\n",
      "Processing Record 273 of set 1 | curuca\n",
      "Processing Record 274 of set 1 | coron\n",
      "Processing Record 275 of set 1 | mmathubudukwane\n",
      "Processing Record 276 of set 1 | dukat\n",
      "Processing Record 277 of set 1 | lota\n",
      "Processing Record 278 of set 1 | pitimbu\n",
      "saleilua NOT FOUND. Skipping.... !!!!\n",
      "Processing Record 279 of set 1 | surt\n",
      "Processing Record 280 of set 1 | tanda\n",
      "Processing Record 281 of set 1 | singaraja\n",
      "Processing Record 282 of set 1 | souillac\n",
      "Processing Record 283 of set 1 | nelson bay\n",
      "Processing Record 284 of set 1 | udachnyy\n",
      "Processing Record 285 of set 1 | livramento\n",
      "Processing Record 286 of set 1 | fairbanks\n",
      "Processing Record 287 of set 1 | hauzenberg\n",
      "Processing Record 288 of set 1 | lososina\n",
      "Processing Record 289 of set 1 | quime\n",
      "Processing Record 290 of set 1 | parabel\n",
      "Processing Record 291 of set 1 | muyezerskiy\n",
      "Processing Record 292 of set 1 | stepnogorsk\n",
      "Processing Record 293 of set 1 | chokwe\n",
      "Processing Record 294 of set 1 | pangnirtung\n",
      "Processing Record 295 of set 1 | monrovia\n",
      "Processing Record 296 of set 1 | kahuta\n",
      "Processing Record 297 of set 1 | vila\n",
      "Processing Record 298 of set 1 | sovetskiy\n",
      "falealupo NOT FOUND. Skipping.... !!!!\n",
      "Processing Record 299 of set 1 | wanaka\n",
      "armacao dos buzios NOT FOUND. Skipping.... !!!!\n",
      "Processing Record 300 of set 1 | opuwo\n",
      "Processing Record 301 of set 1 | henties bay\n",
      "Processing Record 302 of set 1 | provideniya\n",
      "Processing Record 303 of set 1 | port lincoln\n",
      "tsihombe NOT FOUND. Skipping.... !!!!\n",
      "Processing Record 304 of set 1 | buchanan\n",
      "Processing Record 305 of set 1 | bako\n",
      "Processing Record 306 of set 1 | odweyne\n",
      "Processing Record 307 of set 1 | sri aman\n",
      "Processing Record 308 of set 1 | goldsboro\n",
      "Processing Record 309 of set 1 | torbay\n",
      "Processing Record 310 of set 1 | paamiut\n",
      "Processing Record 311 of set 1 | rundu\n",
      "Processing Record 312 of set 1 | shimoda\n",
      "Processing Record 313 of set 1 | minab\n",
      "Processing Record 314 of set 1 | matara\n",
      "Processing Record 315 of set 1 | saldanha\n",
      "Processing Record 316 of set 1 | pundaguitan\n",
      "Processing Record 317 of set 1 | san ignacio\n",
      "Processing Record 318 of set 1 | vila velha\n",
      "Processing Record 319 of set 1 | alyangula\n",
      "Processing Record 320 of set 1 | terrace\n",
      "Processing Record 321 of set 1 | el alto\n",
      "Processing Record 322 of set 1 | zabol\n",
      "Processing Record 323 of set 1 | cockburn town\n",
      "Processing Record 324 of set 1 | baykit\n",
      "Processing Record 325 of set 1 | whitecourt\n",
      "Processing Record 326 of set 1 | lompoc\n",
      "burica NOT FOUND. Skipping.... !!!!\n",
      "Processing Record 327 of set 1 | grindavik\n",
      "Processing Record 328 of set 1 | aiquile\n",
      "Processing Record 329 of set 1 | nemuro\n",
      "Processing Record 330 of set 1 | kutum\n",
      "Processing Record 331 of set 1 | emerald\n",
      "Processing Record 332 of set 1 | turukhansk\n",
      "Processing Record 333 of set 1 | huarmey\n",
      "Processing Record 334 of set 1 | chizhou\n",
      "Processing Record 335 of set 1 | itarema\n",
      "Processing Record 336 of set 1 | manokwari\n",
      "Processing Record 337 of set 1 | ambon\n",
      "Processing Record 338 of set 1 | fort nelson\n",
      "Processing Record 339 of set 1 | walla walla\n",
      "Processing Record 340 of set 1 | acapulco\n",
      "Processing Record 341 of set 1 | shelburne\n",
      "Processing Record 342 of set 1 | sitka\n",
      "Processing Record 343 of set 1 | strezhevoy\n",
      "angra NOT FOUND. Skipping.... !!!!\n",
      "Processing Record 344 of set 1 | walvis bay\n",
      "Processing Record 345 of set 1 | nagornskiy\n",
      "Processing Record 346 of set 1 | los llanos de aridane\n",
      "Processing Record 347 of set 1 | bosaso\n",
      "Processing Record 348 of set 1 | dunedin\n",
      "Processing Record 349 of set 1 | parkhill\n",
      "Processing Record 350 of set 1 | tamiahua\n",
      "Processing Record 351 of set 1 | mackenzie\n",
      "Processing Record 352 of set 1 | kindu\n",
      "Processing Record 353 of set 1 | angoche\n",
      "marcona NOT FOUND. Skipping.... !!!!\n",
      "Processing Record 354 of set 1 | concepcion\n"
     ]
    },
    {
     "name": "stdout",
     "output_type": "stream",
     "text": [
      "Processing Record 355 of set 1 | uyuni\n",
      "dzhusaly NOT FOUND. Skipping.... !!!!\n",
      "Processing Record 356 of set 1 | kainantu\n",
      "Processing Record 357 of set 1 | comodoro rivadavia\n",
      "Processing Record 358 of set 1 | onguday\n",
      "Processing Record 359 of set 1 | pacifica\n",
      "Processing Record 360 of set 1 | bungu\n",
      "Processing Record 361 of set 1 | verkhnevilyuysk\n",
      "Processing Record 362 of set 1 | murdochville\n",
      "Processing Record 363 of set 1 | launceston\n",
      "Processing Record 364 of set 1 | daimiel\n",
      "Processing Record 365 of set 1 | oistins\n",
      "Processing Record 366 of set 1 | kieta\n",
      "Processing Record 367 of set 1 | carman\n",
      "Processing Record 368 of set 1 | papanasam\n",
      "Processing Record 369 of set 1 | nanpiao\n",
      "Processing Record 370 of set 1 | ansbach\n",
      "Processing Record 371 of set 1 | limbang\n",
      "Processing Record 372 of set 1 | porto novo\n",
      "Processing Record 373 of set 1 | oliveira dos brejinhos\n",
      "Processing Record 374 of set 1 | vestmannaeyjar\n",
      "Processing Record 375 of set 1 | margate\n",
      "Processing Record 376 of set 1 | narsaq\n",
      "Processing Record 377 of set 1 | rio grande\n",
      "Processing Record 378 of set 1 | hun\n",
      "opobo NOT FOUND. Skipping.... !!!!\n",
      "Processing Record 379 of set 1 | lancaster\n",
      "halalo NOT FOUND. Skipping.... !!!!\n",
      "Processing Record 380 of set 1 | honningsvag\n",
      "Processing Record 381 of set 1 | caxito\n",
      "Processing Record 382 of set 1 | coahuayana\n",
      "umzimvubu NOT FOUND. Skipping.... !!!!\n",
      "Processing Record 383 of set 1 | bodden town\n",
      "Processing Record 384 of set 1 | san juan\n",
      "Processing Record 385 of set 1 | forestville\n",
      "Processing Record 386 of set 1 | lodja\n",
      "Processing Record 387 of set 1 | panji\n",
      "lyubeshiv NOT FOUND. Skipping.... !!!!\n",
      "Processing Record 388 of set 1 | saint-augustin\n",
      "Processing Record 389 of set 1 | gold coast\n",
      "Processing Record 390 of set 1 | charters towers\n",
      "Processing Record 391 of set 1 | asyut\n",
      "Processing Record 392 of set 1 | jabinyanah\n",
      "Processing Record 393 of set 1 | carnarvon\n",
      "Processing Record 394 of set 1 | puerto penasco\n",
      "Processing Record 395 of set 1 | bismarck\n",
      "Processing Record 396 of set 1 | balesti\n",
      "Processing Record 397 of set 1 | kwinana\n",
      "Processing Record 398 of set 1 | sokolo\n",
      "Processing Record 399 of set 1 | covington\n",
      "Processing Record 400 of set 1 | ewa beach\n",
      "Processing Record 401 of set 1 | blackwater\n",
      "Processing Record 402 of set 1 | pisco\n",
      "ijaki NOT FOUND. Skipping.... !!!!\n",
      "tasbuget NOT FOUND. Skipping.... !!!!\n",
      "Processing Record 403 of set 1 | abu kamal\n",
      "Processing Record 404 of set 1 | oksfjord\n",
      "Processing Record 405 of set 1 | west wendover\n",
      "Processing Record 406 of set 1 | abong mbang\n",
      "Processing Record 407 of set 1 | kruglolesskoye\n",
      "Processing Record 408 of set 1 | tra vinh\n",
      "Processing Record 409 of set 1 | salamiyah\n",
      "Processing Record 410 of set 1 | kulhudhuffushi\n",
      "Processing Record 411 of set 1 | caronport\n",
      "Processing Record 412 of set 1 | gien\n",
      "Processing Record 413 of set 1 | port macquarie\n",
      "Processing Record 414 of set 1 | belaya gora\n",
      "Processing Record 415 of set 1 | poum\n",
      "Processing Record 416 of set 1 | baghdad\n",
      "Processing Record 417 of set 1 | arlit\n",
      "Processing Record 418 of set 1 | boa vista\n",
      "Processing Record 419 of set 1 | felsberg\n",
      "Processing Record 420 of set 1 | shubarshi\n",
      "Processing Record 421 of set 1 | ardahan\n",
      "Processing Record 422 of set 1 | bida\n",
      "Processing Record 423 of set 1 | cabo san lucas\n",
      "Processing Record 424 of set 1 | irbeyskoye\n",
      "Processing Record 425 of set 1 | mayo\n",
      "Processing Record 426 of set 1 | nouadhibou\n",
      "Processing Record 427 of set 1 | chimbote\n",
      "Processing Record 428 of set 1 | muscat\n",
      "Processing Record 429 of set 1 | alofi\n",
      "Processing Record 430 of set 1 | levokumskoye\n",
      "Processing Record 431 of set 1 | tautira\n",
      "jinchengjiang NOT FOUND. Skipping.... !!!!\n",
      "Processing Record 432 of set 1 | galle\n",
      "Processing Record 433 of set 1 | kamaishi\n",
      "Processing Record 434 of set 1 | saint anthony\n",
      "Processing Record 435 of set 1 | egvekinot\n",
      "Processing Record 436 of set 1 | sivaki\n",
      "Processing Record 437 of set 1 | puerto escondido\n",
      "Processing Record 438 of set 1 | nybro\n",
      "Processing Record 439 of set 1 | kandrian\n",
      "Processing Record 440 of set 1 | roma\n",
      "Processing Record 441 of set 1 | lata\n",
      "Processing Record 442 of set 1 | mosquera\n",
      "tumannyy NOT FOUND. Skipping.... !!!!\n",
      "Processing Record 443 of set 1 | jiaocheng\n",
      "Processing Record 444 of set 1 | cantapoy\n",
      "Processing Record 445 of set 1 | bajil\n",
      "Processing Record 446 of set 1 | klaksvik\n",
      "Processing Record 447 of set 1 | bud\n",
      "Processing Record 448 of set 1 | umm kaddadah\n",
      "sataua NOT FOUND. Skipping.... !!!!\n",
      "nguiu NOT FOUND. Skipping.... !!!!\n",
      "Processing Record 449 of set 1 | fuling\n",
      "Processing Record 450 of set 1 | port-gentil\n",
      "Processing Record 451 of set 1 | mehamn\n",
      "Processing Record 452 of set 1 | moerai\n",
      "Processing Record 453 of set 1 | scarborough\n",
      "Processing Record 454 of set 1 | broken hill\n",
      "Processing Record 455 of set 1 | sur\n",
      "Processing Record 456 of set 1 | ostrovnoy\n",
      "Processing Record 457 of set 1 | kargasok\n",
      "Processing Record 458 of set 1 | inhambane\n",
      "Processing Record 459 of set 1 | trairi\n",
      "Processing Record 460 of set 1 | samoylovka\n",
      "Processing Record 461 of set 1 | springdale\n",
      "Processing Record 462 of set 1 | zaysan\n",
      "Processing Record 463 of set 1 | puerto cabello\n",
      "Processing Record 464 of set 1 | naro\n",
      "Processing Record 465 of set 1 | esterhazy\n",
      "Processing Record 466 of set 1 | varhaug\n",
      "Processing Record 467 of set 1 | darhan\n",
      "Processing Record 468 of set 1 | andenes\n",
      "Processing Record 469 of set 1 | silopi\n",
      "Processing Record 470 of set 1 | hamilton\n",
      "Processing Record 471 of set 1 | mankapur\n",
      "Processing Record 472 of set 1 | ahipara\n",
      "Processing Record 473 of set 1 | alvdal\n",
      "Processing Record 474 of set 1 | maceio\n",
      "Processing Record 475 of set 1 | cam ranh\n",
      "Processing Record 476 of set 1 | salinopolis\n",
      "Processing Record 477 of set 1 | aklavik\n",
      "ozgon NOT FOUND. Skipping.... !!!!\n",
      "Processing Record 478 of set 1 | college\n",
      "Processing Record 479 of set 1 | dharchula\n",
      "Processing Record 480 of set 1 | chapais\n",
      "Processing Record 481 of set 1 | tromso\n",
      "Processing Record 482 of set 1 | touros\n",
      "Processing Record 483 of set 1 | wilmington\n",
      "Processing Record 484 of set 1 | san quintin\n",
      "Processing Record 485 of set 1 | saint-joseph\n",
      "Processing Record 486 of set 1 | kirensk\n",
      "Processing Record 487 of set 1 | midland\n",
      "Processing Record 488 of set 1 | zacualtipan\n",
      "Processing Record 489 of set 1 | marawi\n",
      "Processing Record 490 of set 1 | umm lajj\n",
      "Processing Record 491 of set 1 | altay\n",
      "Processing Record 492 of set 1 | doctor arroyo\n",
      "Processing Record 493 of set 1 | amahai\n",
      "Processing Record 494 of set 1 | olinda\n",
      "Processing Record 495 of set 1 | teya\n",
      "Processing Record 496 of set 1 | omagh\n",
      "Processing Record 497 of set 1 | lengshuijiang\n",
      "Processing Record 498 of set 1 | khilok\n",
      "vastervik NOT FOUND. Skipping.... !!!!\n",
      "Processing Record 499 of set 1 | ranong\n",
      "Processing Record 500 of set 1 | novyy urgal\n",
      "Processing Record 501 of set 1 | bonthe\n",
      "Processing Record 502 of set 1 | neiafu\n",
      "Processing Record 503 of set 1 | nisia floresta\n",
      "Processing Record 504 of set 1 | anadyr\n",
      "Processing Record 505 of set 1 | hualmay\n",
      "Processing Record 506 of set 1 | kastamonu\n",
      "Processing Record 507 of set 1 | mango\n",
      "Processing Record 508 of set 1 | byron bay\n",
      "Processing Record 509 of set 1 | gasa\n",
      "Processing Record 510 of set 1 | rio gallegos\n",
      "Processing Record 511 of set 1 | cortez\n",
      "samusu NOT FOUND. Skipping.... !!!!\n",
      "Processing Record 512 of set 1 | ketchikan\n",
      "Processing Record 513 of set 1 | sambava\n",
      "Processing Record 514 of set 1 | kalabo\n",
      "Processing Record 515 of set 1 | tambun\n",
      "Processing Record 516 of set 1 | prince rupert\n",
      "Processing Record 517 of set 1 | makakilo city\n",
      "Processing Record 518 of set 1 | dromolaxia\n",
      "Processing Record 519 of set 1 | palatka\n",
      "Processing Record 520 of set 1 | milkovo\n",
      "Processing Record 521 of set 1 | songea\n",
      "Processing Record 522 of set 1 | marystown\n",
      "Processing Record 523 of set 1 | homer\n",
      "karkaralinsk NOT FOUND. Skipping.... !!!!\n",
      "Processing Record 524 of set 1 | carauari\n",
      "Processing Record 525 of set 1 | oussouye\n",
      "Processing Record 526 of set 1 | atambua\n",
      "Processing Record 527 of set 1 | northam\n",
      "Processing Record 528 of set 1 | alcudia\n",
      "Processing Record 529 of set 1 | xihe\n",
      "Processing Record 530 of set 1 | richards bay\n",
      "Processing Record 531 of set 1 | cheney\n",
      "Processing Record 532 of set 1 | vredendal\n",
      "Processing Record 533 of set 1 | choma\n",
      "Processing Record 534 of set 1 | leshukonskoye\n",
      "Processing Record 535 of set 1 | sakakah\n"
     ]
    },
    {
     "name": "stdout",
     "output_type": "stream",
     "text": [
      "Processing Record 536 of set 1 | zemio\n",
      "Processing Record 537 of set 1 | xichang\n",
      "Processing Record 538 of set 1 | porto franco\n",
      "Processing Record 539 of set 1 | playas\n",
      "Processing Record 540 of set 1 | sibu\n",
      "Processing Record 541 of set 1 | nosy varika\n",
      "Processing Record 542 of set 1 | palaikastron\n",
      "Processing Record 543 of set 1 | deputatskiy\n",
      "Processing Record 544 of set 1 | shahdadkot\n",
      "Processing Record 545 of set 1 | fortuna\n",
      "Processing Record 546 of set 1 | villaviciosa\n",
      "Processing Record 547 of set 1 | talnakh\n",
      "Processing Record 548 of set 1 | alamos\n",
      "Processing Record 549 of set 1 | morococha\n",
      "Processing Record 550 of set 1 | sena madureira\n",
      "meyungs NOT FOUND. Skipping.... !!!!\n",
      "Processing Record 551 of set 1 | taguatinga\n",
      "--------------------------------------------------\n",
      "Data Retrieval Complete\n",
      "Successful API call for 551 cities\n"
     ]
    }
   ],
   "source": [
    "#create different lists for finding proper values from API call\n",
    "lat=[]\n",
    "lon=[]\n",
    "temp_max=[]\n",
    "humidity=[]\n",
    "wind=[]\n",
    "country=[]\n",
    "city_id=[]\n",
    "city_name=[]\n",
    "cloudiness=[]\n",
    "dat=[]\n",
    "\n",
    "#Create string for API call for all of cities found from citipy\n",
    "url=f\"http://api.openweathermap.org/data/2.5/weather?units=imperial&appid={weather_api_key}\"\n",
    "counter=1\n",
    "print(\"Beginning Data Retrieval\")\n",
    "print(\"-----------------------------\")\n",
    "for c in cities:\n",
    "    query_url=f\"{url}&q={c}\"\n",
    "    response=requests.get(query_url).json()\n",
    "    #consider successful API call\n",
    "    if (response[\"cod\"]==200):\n",
    "        print(f\"Processing Record {counter} of set 1 | {c}\")\n",
    "        lat.append(response[\"coord\"][\"lat\"])\n",
    "        lon.append(response[\"coord\"][\"lon\"])\n",
    "        humidity.append(response[\"main\"][\"humidity\"])\n",
    "        temp_max.append(response[\"main\"][\"temp_max\"])\n",
    "        wind.append(response[\"wind\"][\"speed\"])\n",
    "        country.append(response[\"sys\"][\"country\"])\n",
    "        city_name.append(response[\"name\"])\n",
    "        cloudiness.append(response[\"clouds\"][\"all\"])\n",
    "        dat.append(response[\"dt\"])\n",
    "        city_id.append(counter)\n",
    "        counter+=1\n",
    "    else:\n",
    "        print(f\"{c} NOT FOUND. Skipping.... !!!!\")\n",
    "    time.sleep(4)\n",
    "print(\"--------------------------------------------------\")\n",
    "print(\"Data Retrieval Complete\")\n",
    "print(f\"Successful API call for {counter-1} cities\")"
   ]
  },
  {
   "cell_type": "markdown",
   "metadata": {},
   "source": [
    "### Convert Raw Data to DataFrame\n",
    "* Export the city data into a .csv.\n",
    "* Display the DataFrame"
   ]
  },
  {
   "cell_type": "code",
   "execution_count": 6,
   "metadata": {},
   "outputs": [
    {
     "name": "stdout",
     "output_type": "stream",
     "text": [
      "Id            551\n",
      "City          551\n",
      "Lat           551\n",
      "Lng           551\n",
      "Max Temp      551\n",
      "Humidity      551\n",
      "Cloudiness    551\n",
      "Wind Speed    551\n",
      "Country       551\n",
      "Date          551\n",
      "dtype: int64\n"
     ]
    }
   ],
   "source": [
    "#create Data Frame and show number of rows\n",
    "weather_data=pd.DataFrame({\"Id\":city_id, \"City\":city_name, \"Lat\":lat, \"Lng\":lon, \"Max Temp\":temp_max,\n",
    "    \"Humidity\":humidity, \"Cloudiness\":cloudiness, \"Wind Speed\":wind, \"Country\":country, \"Date\":dat})\n",
    "print(weather_data.count())"
   ]
  },
  {
   "cell_type": "code",
   "execution_count": 7,
   "metadata": {},
   "outputs": [
    {
     "data": {
      "text/html": [
       "<div>\n",
       "<style scoped>\n",
       "    .dataframe tbody tr th:only-of-type {\n",
       "        vertical-align: middle;\n",
       "    }\n",
       "\n",
       "    .dataframe tbody tr th {\n",
       "        vertical-align: top;\n",
       "    }\n",
       "\n",
       "    .dataframe thead th {\n",
       "        text-align: right;\n",
       "    }\n",
       "</style>\n",
       "<table border=\"1\" class=\"dataframe\">\n",
       "  <thead>\n",
       "    <tr style=\"text-align: right;\">\n",
       "      <th></th>\n",
       "      <th>Id</th>\n",
       "      <th>City</th>\n",
       "      <th>Lat</th>\n",
       "      <th>Lng</th>\n",
       "      <th>Max Temp</th>\n",
       "      <th>Humidity</th>\n",
       "      <th>Cloudiness</th>\n",
       "      <th>Wind Speed</th>\n",
       "      <th>Country</th>\n",
       "      <th>Date</th>\n",
       "    </tr>\n",
       "  </thead>\n",
       "  <tbody>\n",
       "    <tr>\n",
       "      <th>0</th>\n",
       "      <td>1</td>\n",
       "      <td>George Town</td>\n",
       "      <td>5.41</td>\n",
       "      <td>100.34</td>\n",
       "      <td>78.80</td>\n",
       "      <td>78</td>\n",
       "      <td>20</td>\n",
       "      <td>3.36</td>\n",
       "      <td>MY</td>\n",
       "      <td>1609451138</td>\n",
       "    </tr>\n",
       "    <tr>\n",
       "      <th>1</th>\n",
       "      <td>2</td>\n",
       "      <td>Clyde River</td>\n",
       "      <td>70.47</td>\n",
       "      <td>-68.59</td>\n",
       "      <td>-4.00</td>\n",
       "      <td>83</td>\n",
       "      <td>90</td>\n",
       "      <td>9.17</td>\n",
       "      <td>CA</td>\n",
       "      <td>1609451142</td>\n",
       "    </tr>\n",
       "    <tr>\n",
       "      <th>2</th>\n",
       "      <td>3</td>\n",
       "      <td>East London</td>\n",
       "      <td>-33.02</td>\n",
       "      <td>27.91</td>\n",
       "      <td>69.33</td>\n",
       "      <td>79</td>\n",
       "      <td>74</td>\n",
       "      <td>15.26</td>\n",
       "      <td>ZA</td>\n",
       "      <td>1609451146</td>\n",
       "    </tr>\n",
       "    <tr>\n",
       "      <th>3</th>\n",
       "      <td>4</td>\n",
       "      <td>Ribeira Grande</td>\n",
       "      <td>38.52</td>\n",
       "      <td>-28.70</td>\n",
       "      <td>59.00</td>\n",
       "      <td>87</td>\n",
       "      <td>75</td>\n",
       "      <td>19.46</td>\n",
       "      <td>PT</td>\n",
       "      <td>1609451150</td>\n",
       "    </tr>\n",
       "    <tr>\n",
       "      <th>4</th>\n",
       "      <td>5</td>\n",
       "      <td>Saint-Paul</td>\n",
       "      <td>-21.01</td>\n",
       "      <td>55.27</td>\n",
       "      <td>73.40</td>\n",
       "      <td>83</td>\n",
       "      <td>20</td>\n",
       "      <td>13.87</td>\n",
       "      <td>RE</td>\n",
       "      <td>1609451155</td>\n",
       "    </tr>\n",
       "  </tbody>\n",
       "</table>\n",
       "</div>"
      ],
      "text/plain": [
       "   Id            City    Lat     Lng  Max Temp  Humidity  Cloudiness  \\\n",
       "0   1     George Town   5.41  100.34     78.80        78          20   \n",
       "1   2     Clyde River  70.47  -68.59     -4.00        83          90   \n",
       "2   3     East London -33.02   27.91     69.33        79          74   \n",
       "3   4  Ribeira Grande  38.52  -28.70     59.00        87          75   \n",
       "4   5      Saint-Paul -21.01   55.27     73.40        83          20   \n",
       "\n",
       "   Wind Speed Country        Date  \n",
       "0        3.36      MY  1609451138  \n",
       "1        9.17      CA  1609451142  \n",
       "2       15.26      ZA  1609451146  \n",
       "3       19.46      PT  1609451150  \n",
       "4       13.87      RE  1609451155  "
      ]
     },
     "execution_count": 7,
     "metadata": {},
     "output_type": "execute_result"
    }
   ],
   "source": [
    "#Convert Data frame to csv file and show data frame\n",
    "weather_data.to_csv(output_data_file,encoding='utf_8',index=False)\n",
    "weather_data.head()"
   ]
  },
  {
   "cell_type": "markdown",
   "metadata": {},
   "source": [
    "## Inspect the data and remove the cities where the humidity > 100%.\n",
    "----\n",
    "Skip this step if there are no cities that have humidity > 100%. "
   ]
  },
  {
   "cell_type": "code",
   "execution_count": 8,
   "metadata": {},
   "outputs": [
    {
     "name": "stdout",
     "output_type": "stream",
     "text": [
      "Maximum of humidity in data frame is: 100\n"
     ]
    },
    {
     "data": {
      "text/html": [
       "<div>\n",
       "<style scoped>\n",
       "    .dataframe tbody tr th:only-of-type {\n",
       "        vertical-align: middle;\n",
       "    }\n",
       "\n",
       "    .dataframe tbody tr th {\n",
       "        vertical-align: top;\n",
       "    }\n",
       "\n",
       "    .dataframe thead th {\n",
       "        text-align: right;\n",
       "    }\n",
       "</style>\n",
       "<table border=\"1\" class=\"dataframe\">\n",
       "  <thead>\n",
       "    <tr style=\"text-align: right;\">\n",
       "      <th></th>\n",
       "      <th>Id</th>\n",
       "      <th>Lat</th>\n",
       "      <th>Lng</th>\n",
       "      <th>Max Temp</th>\n",
       "      <th>Humidity</th>\n",
       "      <th>Cloudiness</th>\n",
       "      <th>Wind Speed</th>\n",
       "      <th>Date</th>\n",
       "    </tr>\n",
       "  </thead>\n",
       "  <tbody>\n",
       "    <tr>\n",
       "      <th>count</th>\n",
       "      <td>551.000000</td>\n",
       "      <td>551.000000</td>\n",
       "      <td>551.000000</td>\n",
       "      <td>551.000000</td>\n",
       "      <td>551.000000</td>\n",
       "      <td>551.000000</td>\n",
       "      <td>551.000000</td>\n",
       "      <td>5.510000e+02</td>\n",
       "    </tr>\n",
       "    <tr>\n",
       "      <th>mean</th>\n",
       "      <td>276.000000</td>\n",
       "      <td>20.623158</td>\n",
       "      <td>13.716860</td>\n",
       "      <td>48.632577</td>\n",
       "      <td>76.268603</td>\n",
       "      <td>56.021779</td>\n",
       "      <td>8.125281</td>\n",
       "      <td>1.609452e+09</td>\n",
       "    </tr>\n",
       "    <tr>\n",
       "      <th>std</th>\n",
       "      <td>159.204271</td>\n",
       "      <td>33.480731</td>\n",
       "      <td>92.530267</td>\n",
       "      <td>31.811787</td>\n",
       "      <td>16.958036</td>\n",
       "      <td>39.802415</td>\n",
       "      <td>5.942378</td>\n",
       "      <td>7.339687e+02</td>\n",
       "    </tr>\n",
       "    <tr>\n",
       "      <th>min</th>\n",
       "      <td>1.000000</td>\n",
       "      <td>-54.800000</td>\n",
       "      <td>-179.170000</td>\n",
       "      <td>-42.120000</td>\n",
       "      <td>17.000000</td>\n",
       "      <td>0.000000</td>\n",
       "      <td>0.130000</td>\n",
       "      <td>1.609451e+09</td>\n",
       "    </tr>\n",
       "    <tr>\n",
       "      <th>25%</th>\n",
       "      <td>138.500000</td>\n",
       "      <td>-6.360000</td>\n",
       "      <td>-68.405000</td>\n",
       "      <td>31.325000</td>\n",
       "      <td>69.000000</td>\n",
       "      <td>10.500000</td>\n",
       "      <td>3.360000</td>\n",
       "      <td>1.609452e+09</td>\n",
       "    </tr>\n",
       "    <tr>\n",
       "      <th>50%</th>\n",
       "      <td>276.000000</td>\n",
       "      <td>26.330000</td>\n",
       "      <td>17.940000</td>\n",
       "      <td>59.000000</td>\n",
       "      <td>80.000000</td>\n",
       "      <td>75.000000</td>\n",
       "      <td>6.930000</td>\n",
       "      <td>1.609452e+09</td>\n",
       "    </tr>\n",
       "    <tr>\n",
       "      <th>75%</th>\n",
       "      <td>413.500000</td>\n",
       "      <td>49.495000</td>\n",
       "      <td>101.300000</td>\n",
       "      <td>75.200000</td>\n",
       "      <td>88.000000</td>\n",
       "      <td>94.000000</td>\n",
       "      <td>11.410000</td>\n",
       "      <td>1.609453e+09</td>\n",
       "    </tr>\n",
       "    <tr>\n",
       "      <th>max</th>\n",
       "      <td>551.000000</td>\n",
       "      <td>78.220000</td>\n",
       "      <td>179.320000</td>\n",
       "      <td>91.400000</td>\n",
       "      <td>100.000000</td>\n",
       "      <td>100.000000</td>\n",
       "      <td>42.500000</td>\n",
       "      <td>1.609454e+09</td>\n",
       "    </tr>\n",
       "  </tbody>\n",
       "</table>\n",
       "</div>"
      ],
      "text/plain": [
       "               Id         Lat         Lng    Max Temp    Humidity  Cloudiness  \\\n",
       "count  551.000000  551.000000  551.000000  551.000000  551.000000  551.000000   \n",
       "mean   276.000000   20.623158   13.716860   48.632577   76.268603   56.021779   \n",
       "std    159.204271   33.480731   92.530267   31.811787   16.958036   39.802415   \n",
       "min      1.000000  -54.800000 -179.170000  -42.120000   17.000000    0.000000   \n",
       "25%    138.500000   -6.360000  -68.405000   31.325000   69.000000   10.500000   \n",
       "50%    276.000000   26.330000   17.940000   59.000000   80.000000   75.000000   \n",
       "75%    413.500000   49.495000  101.300000   75.200000   88.000000   94.000000   \n",
       "max    551.000000   78.220000  179.320000   91.400000  100.000000  100.000000   \n",
       "\n",
       "       Wind Speed          Date  \n",
       "count  551.000000  5.510000e+02  \n",
       "mean     8.125281  1.609452e+09  \n",
       "std      5.942378  7.339687e+02  \n",
       "min      0.130000  1.609451e+09  \n",
       "25%      3.360000  1.609452e+09  \n",
       "50%      6.930000  1.609452e+09  \n",
       "75%     11.410000  1.609453e+09  \n",
       "max     42.500000  1.609454e+09  "
      ]
     },
     "execution_count": 8,
     "metadata": {},
     "output_type": "execute_result"
    }
   ],
   "source": [
    "#find maximum of humidity and create new data frame from it and claculate related statistics\n",
    "max=weather_data[\"Humidity\"].max()\n",
    "print(f\"Maximum of humidity in data frame is: {max}\")\n",
    "if max>100:\n",
    "    clean_data=weather_data.loc[weather_data[\"Humidity\"]<= 100]\n",
    "    clean_data.describe()\n",
    "weather_data.describe()"
   ]
  },
  {
   "cell_type": "code",
   "execution_count": 11,
   "metadata": {},
   "outputs": [
    {
     "data": {
      "text/plain": [
       "Int64Index([], dtype='int64')"
      ]
     },
     "execution_count": 11,
     "metadata": {},
     "output_type": "execute_result"
    }
   ],
   "source": [
    "#  Get the indices of cities that have humidity over 100%.\n",
    "wrong_data=weather_data.loc[weather_data[\"Humidity\"]>100]\n",
    "indices=[]\n",
    "indices=wrong_data[\"Id\"].index\n",
    "indices"
   ]
  },
  {
   "cell_type": "code",
   "execution_count": 14,
   "metadata": {},
   "outputs": [],
   "source": [
    "# Make a new DataFrame equal to the city data to drop all humidity outliers by index.\n",
    "# Passing \"inplace=False\" will make a copy of the city_data DataFrame, which we call \"clean_city_data\".\n",
    "clean_city_data=weather_data.drop(indices, inplace=False)"
   ]
  },
  {
   "cell_type": "code",
   "execution_count": 18,
   "metadata": {},
   "outputs": [
    {
     "data": {
      "text/html": [
       "<div>\n",
       "<style scoped>\n",
       "    .dataframe tbody tr th:only-of-type {\n",
       "        vertical-align: middle;\n",
       "    }\n",
       "\n",
       "    .dataframe tbody tr th {\n",
       "        vertical-align: top;\n",
       "    }\n",
       "\n",
       "    .dataframe thead th {\n",
       "        text-align: right;\n",
       "    }\n",
       "</style>\n",
       "<table border=\"1\" class=\"dataframe\">\n",
       "  <thead>\n",
       "    <tr style=\"text-align: right;\">\n",
       "      <th></th>\n",
       "      <th>Id</th>\n",
       "      <th>City</th>\n",
       "      <th>Lat</th>\n",
       "      <th>Lng</th>\n",
       "      <th>Max Temp</th>\n",
       "      <th>Humidity</th>\n",
       "      <th>Cloudiness</th>\n",
       "      <th>Wind Speed</th>\n",
       "      <th>Country</th>\n",
       "      <th>Date</th>\n",
       "    </tr>\n",
       "  </thead>\n",
       "  <tbody>\n",
       "    <tr>\n",
       "      <th>0</th>\n",
       "      <td>1</td>\n",
       "      <td>George Town</td>\n",
       "      <td>5.41</td>\n",
       "      <td>100.34</td>\n",
       "      <td>78.80</td>\n",
       "      <td>78</td>\n",
       "      <td>20</td>\n",
       "      <td>3.36</td>\n",
       "      <td>MY</td>\n",
       "      <td>1609451138</td>\n",
       "    </tr>\n",
       "    <tr>\n",
       "      <th>1</th>\n",
       "      <td>2</td>\n",
       "      <td>Clyde River</td>\n",
       "      <td>70.47</td>\n",
       "      <td>-68.59</td>\n",
       "      <td>-4.00</td>\n",
       "      <td>83</td>\n",
       "      <td>90</td>\n",
       "      <td>9.17</td>\n",
       "      <td>CA</td>\n",
       "      <td>1609451142</td>\n",
       "    </tr>\n",
       "    <tr>\n",
       "      <th>2</th>\n",
       "      <td>3</td>\n",
       "      <td>East London</td>\n",
       "      <td>-33.02</td>\n",
       "      <td>27.91</td>\n",
       "      <td>69.33</td>\n",
       "      <td>79</td>\n",
       "      <td>74</td>\n",
       "      <td>15.26</td>\n",
       "      <td>ZA</td>\n",
       "      <td>1609451146</td>\n",
       "    </tr>\n",
       "    <tr>\n",
       "      <th>3</th>\n",
       "      <td>4</td>\n",
       "      <td>Ribeira Grande</td>\n",
       "      <td>38.52</td>\n",
       "      <td>-28.70</td>\n",
       "      <td>59.00</td>\n",
       "      <td>87</td>\n",
       "      <td>75</td>\n",
       "      <td>19.46</td>\n",
       "      <td>PT</td>\n",
       "      <td>1609451150</td>\n",
       "    </tr>\n",
       "    <tr>\n",
       "      <th>4</th>\n",
       "      <td>5</td>\n",
       "      <td>Saint-Paul</td>\n",
       "      <td>-21.01</td>\n",
       "      <td>55.27</td>\n",
       "      <td>73.40</td>\n",
       "      <td>83</td>\n",
       "      <td>20</td>\n",
       "      <td>13.87</td>\n",
       "      <td>RE</td>\n",
       "      <td>1609451155</td>\n",
       "    </tr>\n",
       "    <tr>\n",
       "      <th>...</th>\n",
       "      <td>...</td>\n",
       "      <td>...</td>\n",
       "      <td>...</td>\n",
       "      <td>...</td>\n",
       "      <td>...</td>\n",
       "      <td>...</td>\n",
       "      <td>...</td>\n",
       "      <td>...</td>\n",
       "      <td>...</td>\n",
       "      <td>...</td>\n",
       "    </tr>\n",
       "    <tr>\n",
       "      <th>546</th>\n",
       "      <td>547</td>\n",
       "      <td>Talnakh</td>\n",
       "      <td>69.49</td>\n",
       "      <td>88.40</td>\n",
       "      <td>-13.00</td>\n",
       "      <td>62</td>\n",
       "      <td>0</td>\n",
       "      <td>2.24</td>\n",
       "      <td>RU</td>\n",
       "      <td>1609453567</td>\n",
       "    </tr>\n",
       "    <tr>\n",
       "      <th>547</th>\n",
       "      <td>548</td>\n",
       "      <td>Álamos</td>\n",
       "      <td>27.02</td>\n",
       "      <td>-108.93</td>\n",
       "      <td>70.00</td>\n",
       "      <td>38</td>\n",
       "      <td>0</td>\n",
       "      <td>3.00</td>\n",
       "      <td>MX</td>\n",
       "      <td>1609453650</td>\n",
       "    </tr>\n",
       "    <tr>\n",
       "      <th>548</th>\n",
       "      <td>549</td>\n",
       "      <td>Morococha</td>\n",
       "      <td>-11.60</td>\n",
       "      <td>-76.14</td>\n",
       "      <td>35.26</td>\n",
       "      <td>96</td>\n",
       "      <td>100</td>\n",
       "      <td>3.29</td>\n",
       "      <td>PE</td>\n",
       "      <td>1609453655</td>\n",
       "    </tr>\n",
       "    <tr>\n",
       "      <th>549</th>\n",
       "      <td>550</td>\n",
       "      <td>Sena Madureira</td>\n",
       "      <td>-9.07</td>\n",
       "      <td>-68.66</td>\n",
       "      <td>80.55</td>\n",
       "      <td>92</td>\n",
       "      <td>97</td>\n",
       "      <td>1.57</td>\n",
       "      <td>BR</td>\n",
       "      <td>1609453659</td>\n",
       "    </tr>\n",
       "    <tr>\n",
       "      <th>550</th>\n",
       "      <td>551</td>\n",
       "      <td>Taguatinga</td>\n",
       "      <td>-12.39</td>\n",
       "      <td>-46.57</td>\n",
       "      <td>81.68</td>\n",
       "      <td>53</td>\n",
       "      <td>59</td>\n",
       "      <td>3.53</td>\n",
       "      <td>BR</td>\n",
       "      <td>1609453667</td>\n",
       "    </tr>\n",
       "  </tbody>\n",
       "</table>\n",
       "<p>551 rows × 10 columns</p>\n",
       "</div>"
      ],
      "text/plain": [
       "      Id            City    Lat     Lng  Max Temp  Humidity  Cloudiness  \\\n",
       "0      1     George Town   5.41  100.34     78.80        78          20   \n",
       "1      2     Clyde River  70.47  -68.59     -4.00        83          90   \n",
       "2      3     East London -33.02   27.91     69.33        79          74   \n",
       "3      4  Ribeira Grande  38.52  -28.70     59.00        87          75   \n",
       "4      5      Saint-Paul -21.01   55.27     73.40        83          20   \n",
       "..   ...             ...    ...     ...       ...       ...         ...   \n",
       "546  547         Talnakh  69.49   88.40    -13.00        62           0   \n",
       "547  548          Álamos  27.02 -108.93     70.00        38           0   \n",
       "548  549       Morococha -11.60  -76.14     35.26        96         100   \n",
       "549  550  Sena Madureira  -9.07  -68.66     80.55        92          97   \n",
       "550  551      Taguatinga -12.39  -46.57     81.68        53          59   \n",
       "\n",
       "     Wind Speed Country        Date  \n",
       "0          3.36      MY  1609451138  \n",
       "1          9.17      CA  1609451142  \n",
       "2         15.26      ZA  1609451146  \n",
       "3         19.46      PT  1609451150  \n",
       "4         13.87      RE  1609451155  \n",
       "..          ...     ...         ...  \n",
       "546        2.24      RU  1609453567  \n",
       "547        3.00      MX  1609453650  \n",
       "548        3.29      PE  1609453655  \n",
       "549        1.57      BR  1609453659  \n",
       "550        3.53      BR  1609453667  \n",
       "\n",
       "[551 rows x 10 columns]"
      ]
     },
     "execution_count": 18,
     "metadata": {},
     "output_type": "execute_result"
    }
   ],
   "source": [
    "clean_city_data[\"Id\"].count()\n",
    "clean_city_data\n"
   ]
  },
  {
   "cell_type": "markdown",
   "metadata": {},
   "source": [
    "## Plotting the Data\n",
    "* Use proper labeling of the plots using plot titles (including date of analysis) and axes labels.\n",
    "* Save the plotted figures as .pngs."
   ]
  },
  {
   "cell_type": "markdown",
   "metadata": {},
   "source": [
    "## Latitude vs. Temperature Plot"
   ]
  },
  {
   "cell_type": "code",
   "execution_count": 49,
   "metadata": {
    "scrolled": true
   },
   "outputs": [
    {
     "data": {
      "image/png": "[encoded data removed]",
      "text/plain": [
       "<Figure size 432x288 with 1 Axes>"
      ]
     },
     "metadata": {
      "needs_background": "light"
     },
     "output_type": "display_data"
    }
   ],
   "source": [
    "ax = plt.subplots()\n",
    "plt.scatter(clean_city_data[\"Lat\"], clean_city_data[\"Max Temp\"], edgecolors=\"black\")\n",
    "t=f\"City Latitude vs. Max Temperature ({date.today()})\"\n",
    "plt.title(t)\n",
    "plt.xlabel(\"Latitude\")\n",
    "plt.ylabel(\"Max Temperature\")\n",
    "plt.grid()\n",
    "plt.savefig(\"output_data/Lat_vs_Temp.png\")\n",
    "plt.show()"
   ]
  },
  {
   "cell_type": "markdown",
   "metadata": {},
   "source": [
    "## Latitude vs. Humidity Plot"
   ]
  },
  {
   "cell_type": "code",
   "execution_count": 51,
   "metadata": {},
   "outputs": [
    {
     "data": {
      "image/png": "[encoded data removed]",
      "text/plain": [
       "<Figure size 432x288 with 1 Axes>"
      ]
     },
     "metadata": {
      "needs_background": "light"
     },
     "output_type": "display_data"
    }
   ],
   "source": [
    "ax = plt.subplots()\n",
    "plt.scatter(clean_city_data[\"Lat\"], clean_city_data[\"Humidity\"], edgecolors=\"black\")\n",
    "t=f\"City Latitude vs. Humidity ({date.today()})\"\n",
    "plt.title(t)\n",
    "plt.xlabel(\"Latitude\")\n",
    "plt.ylabel(\"Humidity (%)\")\n",
    "plt.grid()\n",
    "plt.savefig(\"output_data/Lat_vs_Humidity.png\")\n",
    "plt.show()"
   ]
  },
  {
   "cell_type": "markdown",
   "metadata": {},
   "source": [
    "## Latitude vs. Cloudiness Plot"
   ]
  },
  {
   "cell_type": "code",
   "execution_count": 52,
   "metadata": {},
   "outputs": [
    {
     "data": {
      "image/png": "[encoded data removed]",
      "text/plain": [
       "<Figure size 432x288 with 1 Axes>"
      ]
     },
     "metadata": {
      "needs_background": "light"
     },
     "output_type": "display_data"
    }
   ],
   "source": [
    "ax = plt.subplots()\n",
    "plt.scatter(clean_city_data[\"Lat\"], clean_city_data[\"Cloudiness\"], edgecolors=\"black\")\n",
    "t=f\"City Latitude vs. Cloudiness ({date.today()})\"\n",
    "plt.title(t)\n",
    "plt.xlabel(\"Latitude\")\n",
    "plt.ylabel(\"Cloudiness (%)\")\n",
    "plt.grid()\n",
    "plt.savefig(\"output_data/Lat_vs_Cloudiness.png\")\n",
    "plt.show()"
   ]
  },
  {
   "cell_type": "markdown",
   "metadata": {},
   "source": [
    "## Latitude vs. Wind Speed Plot"
   ]
  },
  {
   "cell_type": "code",
   "execution_count": 53,
   "metadata": {},
   "outputs": [
    {
     "data": {
      "image/png": "[encoded data removed]",
      "text/plain": [
       "<Figure size 432x288 with 1 Axes>"
      ]
     },
     "metadata": {
      "needs_background": "light"
     },
     "output_type": "display_data"
    }
   ],
   "source": [
    "ax = plt.subplots()\n",
    "plt.scatter(clean_city_data[\"Lat\"], clean_city_data[\"Wind Speed\"], edgecolors=\"black\")\n",
    "t=f\"Latitude vs. Wind Speed ({date.today()})\"\n",
    "plt.title(t)\n",
    "plt.xlabel(\"Latitude\")\n",
    "plt.ylabel(\"Wind Speed (mph)\")\n",
    "plt.grid()\n",
    "plt.savefig(\"output_data/Lat_vs_Wind_Speed.png\")\n",
    "plt.show()"
   ]
  },
  {
   "cell_type": "markdown",
   "metadata": {},
   "source": [
    "## Linear Regression"
   ]
  },
  {
   "cell_type": "code",
   "execution_count": 112,
   "metadata": {},
   "outputs": [],
   "source": [
    "def linear_reg(x, y, y_label, filen,xy):\n",
    "    slope, intercept, r_value, p_value, std_err=st.linregress(x,y)\n",
    "    regression_value=x*slope+intercept\n",
    "    plt.scatter(x, y)\n",
    "    plt.plot(x, regression_value, color='red')\n",
    "    line_eq= f\"y = {round(slope, 2)} x + {round(intercept, 2)}\"\n",
    "    plt.annotate(line_eq, xy, color='red', fontsize=14)\n",
    "    plt.xlabel(\"Latitude\")\n",
    "    plt.ylabel(y_label)\n",
    "    print(f\"The r-value is: {r_value}\")\n",
    "    path=\"output_data/\"+filen\n",
    "    plt.savefig(path)\n",
    "    plt.show()\n",
    "        \n",
    "northern_hemisphere=clean_city_data.loc[clean_city_data[\"Lat\"]> 0]\n",
    "southern_hemisphere=clean_city_data.loc[clean_city_data[\"Lat\"]< 0]"
   ]
  },
  {
   "cell_type": "markdown",
   "metadata": {},
   "source": [
    "####  Northern Hemisphere - Max Temp vs. Latitude Linear Regression"
   ]
  },
  {
   "cell_type": "code",
   "execution_count": 125,
   "metadata": {
    "scrolled": true
   },
   "outputs": [
    {
     "name": "stdout",
     "output_type": "stream",
     "text": [
      "The r-value is: -0.8224275043657755\n"
     ]
    },
    {
     "data": {
      "image/png": "[encoded data removed]",
      "text/plain": [
       "<Figure size 432x288 with 1 Axes>"
      ]
     },
     "metadata": {
      "needs_background": "light"
     },
     "output_type": "display_data"
    }
   ],
   "source": [
    "linear_reg(northern_hemisphere[\"Lat\"], northern_hemisphere[\"Max Temp\"], \"Max Temp\", \"Linear_Lat_vs_Temp_north_Hemispher.png\",(10,8))"
   ]
  },
  {
   "cell_type": "markdown",
   "metadata": {},
   "source": [
    "####  Southern Hemisphere - Max Temp vs. Latitude Linear Regression"
   ]
  },
  {
   "cell_type": "code",
   "execution_count": 137,
   "metadata": {},
   "outputs": [
    {
     "name": "stdout",
     "output_type": "stream",
     "text": [
      "The r-value is: 0.49931696271207027\n"
     ]
    },
    {
     "data": {
      "image/png": "[encoded data removed]",
      "text/plain": [
       "<Figure size 432x288 with 1 Axes>"
      ]
     },
     "metadata": {
      "needs_background": "light"
     },
     "output_type": "display_data"
    }
   ],
   "source": [
    "linear_reg(southern_hemisphere[\"Lat\"], southern_hemisphere[\"Max Temp\"], \"Max Temp\", \"Linear_Lat_vs_Temp_south_Hemispher.png\",(-40,40))"
   ]
  },
  {
   "cell_type": "markdown",
   "metadata": {},
   "source": [
    "####  Northern Hemisphere - Humidity (%) vs. Latitude Linear Regression"
   ]
  },
  {
   "cell_type": "code",
   "execution_count": 147,
   "metadata": {},
   "outputs": [
    {
     "name": "stdout",
     "output_type": "stream",
     "text": [
      "The r-value is: 0.37817200342916135\n"
     ]
    },
    {
     "data": {
      "image/png": "[encoded data removed]",
      "text/plain": [
       "<Figure size 432x288 with 1 Axes>"
      ]
     },
     "metadata": {
      "needs_background": "light"
     },
     "output_type": "display_data"
    }
   ],
   "source": [
    "linear_reg(northern_hemisphere[\"Lat\"], northern_hemisphere[\"Humidity\"], \"Humidity (%)\", \"Linear_Lat_vs_Humidity_north_Hemispher.png\",(40,30))"
   ]
  },
  {
   "cell_type": "markdown",
   "metadata": {},
   "source": [
    "####  Southern Hemisphere - Humidity (%) vs. Latitude Linear Regression"
   ]
  },
  {
   "cell_type": "code",
   "execution_count": 154,
   "metadata": {},
   "outputs": [
    {
     "name": "stdout",
     "output_type": "stream",
     "text": [
      "The r-value is: 0.31175167230298634\n"
     ]
    },
    {
     "data": {
      "image/png": "[encoded data removed]",
      "text/plain": [
       "<Figure size 432x288 with 1 Axes>"
      ]
     },
     "metadata": {
      "needs_background": "light"
     },
     "output_type": "display_data"
    }
   ],
   "source": [
    "linear_reg(southern_hemisphere[\"Lat\"], southern_hemisphere[\"Humidity\"], \"Humidity (%)\", \"Linear_Lat_vs_Humidity_south_Hemispher.png\",(-25,30))"
   ]
  },
  {
   "cell_type": "markdown",
   "metadata": {},
   "source": [
    "####  Northern Hemisphere - Cloudiness (%) vs. Latitude Linear Regression"
   ]
  },
  {
   "cell_type": "code",
   "execution_count": 155,
   "metadata": {},
   "outputs": [
    {
     "name": "stdout",
     "output_type": "stream",
     "text": [
      "The r-value is: 0.22003905987782213\n"
     ]
    },
    {
     "data": {
      "image/png": "[encoded data removed]",
      "text/plain": [
       "<Figure size 432x288 with 1 Axes>"
      ]
     },
     "metadata": {
      "needs_background": "light"
     },
     "output_type": "display_data"
    }
   ],
   "source": [
    "linear_reg(northern_hemisphere[\"Lat\"], northern_hemisphere[\"Cloudiness\"], \"Cloudiness (%)\", \"Linear_Lat_vs_Cloudiness_north_Hemispher.png\",(40,30))"
   ]
  },
  {
   "cell_type": "markdown",
   "metadata": {},
   "source": [
    "####  Southern Hemisphere - Cloudiness (%) vs. Latitude Linear Regression"
   ]
  },
  {
   "cell_type": "code",
   "execution_count": 156,
   "metadata": {},
   "outputs": [
    {
     "name": "stdout",
     "output_type": "stream",
     "text": [
      "The r-value is: 0.2888753686367975\n"
     ]
    },
    {
     "data": {
      "image/png": "[encoded data removed]",
      "text/plain": [
       "<Figure size 432x288 with 1 Axes>"
      ]
     },
     "metadata": {
      "needs_background": "light"
     },
     "output_type": "display_data"
    }
   ],
   "source": [
    "linear_reg(southern_hemisphere[\"Lat\"], southern_hemisphere[\"Cloudiness\"], \"Cloudiness (%)\", \"Linear_Lat_vs_Cloudiness_south_Hemispher.png\",(-25,30))"
   ]
  },
  {
   "cell_type": "markdown",
   "metadata": {},
   "source": [
    "####  Northern Hemisphere - Wind Speed (mph) vs. Latitude Linear Regression"
   ]
  },
  {
   "cell_type": "code",
   "execution_count": 158,
   "metadata": {},
   "outputs": [
    {
     "name": "stdout",
     "output_type": "stream",
     "text": [
      "The r-value is: 0.0021807537637835907\n"
     ]
    },
    {
     "data": {
      "image/png": "[encoded data removed]",
      "text/plain": [
       "<Figure size 432x288 with 1 Axes>"
      ]
     },
     "metadata": {
      "needs_background": "light"
     },
     "output_type": "display_data"
    }
   ],
   "source": [
    "linear_reg(northern_hemisphere[\"Lat\"], northern_hemisphere[\"Wind Speed\"], \"Wind Speed\", \"Linear_Lat_vs_Wind_north_Hemispher.png\",(40,30))"
   ]
  },
  {
   "cell_type": "markdown",
   "metadata": {},
   "source": [
    "####  Southern Hemisphere - Wind Speed (mph) vs. Latitude Linear Regression"
   ]
  },
  {
   "cell_type": "code",
   "execution_count": 32,
   "metadata": {},
   "outputs": [
    {
     "name": "stdout",
     "output_type": "stream",
     "text": [
      "The r-value is: 0.017128274759839232\n"
     ]
    },
    {
     "data": {
      "image/png": "[encoded data removed]",
      "text/plain": [
       "<Figure size 432x288 with 1 Axes>"
      ]
     },
     "metadata": {
      "needs_background": "light"
     },
     "output_type": "display_data"
    }
   ],
   "source": [
    "linear_reg(southern_hemisphere[\"Lat\"], southern_hemisphere[\"Wind Speed\"], \"Cloudiness (%)\", \"Linear_Lat_vs_Wind_south_Hemispher.png\",(-25,30))"
   ]
  },
  {
   "cell_type": "code",
   "execution_count": null,
   "metadata": {},
   "outputs": [],
   "source": []
  }
 ],
 "metadata": {
  "anaconda-cloud": {},
  "kernel_info": {
   "name": "python3"
  },
  "kernelspec": {
   "display_name": "Python 3",
   "language": "python",
   "name": "python3"
  },
  "language_info": {
   "codemirror_mode": {
    "name": "ipython",
    "version": 3
   },
   "file_extension": ".py",
   "mimetype": "text/x-python",
   "name": "python",
   "nbconvert_exporter": "python",
   "pygments_lexer": "ipython3",
   "version": "3.8.5"
  },
  "latex_envs": {
   "LaTeX_envs_menu_present": true,
   "autoclose": false,
   "autocomplete": true,
   "bibliofile": "biblio.bib",
   "cite_by": "apalike",
   "current_citInitial": 1,
   "eqLabelWithNumbers": true,
   "eqNumInitial": 1,
   "hotkeys": {
    "equation": "Ctrl-E",
    "itemize": "Ctrl-I"
   },
   "labels_anchors": false,
   "latex_user_defs": false,
   "report_style_numbering": false,
   "user_envs_cfg": false
  },
  "nteract": {
   "version": "0.12.3"
  }
 },
 "nbformat": 4,
 "nbformat_minor": 2
}
